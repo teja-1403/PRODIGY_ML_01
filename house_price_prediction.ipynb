{
  "metadata": {
    "kernelspec": {
      "language": "python",
      "display_name": "Python 3",
      "name": "python3"
    },
    "language_info": {
      "name": "python",
      "version": "3.10.12",
      "mimetype": "text/x-python",
      "codemirror_mode": {
        "name": "ipython",
        "version": 3
      },
      "pygments_lexer": "ipython3",
      "nbconvert_exporter": "python",
      "file_extension": ".py"
    },
    "kaggle": {
      "accelerator": "none",
      "dataSources": [
        {
          "sourceId": 10284732,
          "sourceType": "datasetVersion",
          "datasetId": 6364452
        }
      ],
      "dockerImageVersionId": 30822,
      "isInternetEnabled": true,
      "language": "python",
      "sourceType": "notebook",
      "isGpuEnabled": false
    },
    "colab": {
      "provenance": [],
      "include_colab_link": true
    }
  },
  "nbformat_minor": 0,
  "nbformat": 4,
  "cells": [
    {
      "cell_type": "markdown",
      "metadata": {
        "id": "view-in-github",
        "colab_type": "text"
      },
      "source": [
        "<a href=\"https://colab.research.google.com/github/teja-1403/PRODIGY_ML_01/blob/main/house_price_prediction.ipynb\" target=\"_parent\"><img src=\"https://colab.research.google.com/assets/colab-badge.svg\" alt=\"Open In Colab\"/></a>"
      ]
    },
    {
      "cell_type": "markdown",
      "source": [
        "# **PRODIGY_ML_01**"
      ],
      "metadata": {
        "id": "jbNC80Js07qg"
      }
    },
    {
      "cell_type": "markdown",
      "source": [
        "# House Price Prediction using Linear Regression"
      ],
      "metadata": {
        "id": "ydnZX2D204dU"
      }
    },
    {
      "cell_type": "markdown",
      "source": [
        "1. Import necessary libraries"
      ],
      "metadata": {
        "id": "NGSKdiC104dW"
      }
    },
    {
      "cell_type": "code",
      "source": [
        "import numpy as np\n",
        "import pandas as pd\n",
        "from sklearn.model_selection import train_test_split\n",
        "from sklearn.linear_model import LinearRegression\n",
        "from sklearn.preprocessing import StandardScaler\n",
        "from sklearn.metrics import mean_squared_error"
      ],
      "metadata": {
        "trusted": true,
        "execution": {
          "iopub.status.busy": "2024-12-24T06:18:33.503101Z",
          "iopub.execute_input": "2024-12-24T06:18:33.503545Z",
          "iopub.status.idle": "2024-12-24T06:18:34.592373Z",
          "shell.execute_reply.started": "2024-12-24T06:18:33.503493Z",
          "shell.execute_reply": "2024-12-24T06:18:34.591276Z"
        },
        "id": "irwZ7V1D04dX"
      },
      "outputs": [],
      "execution_count": null
    },
    {
      "cell_type": "markdown",
      "source": [
        "2. Load the datasets"
      ],
      "metadata": {
        "id": "1pJs6Lc704dX"
      }
    },
    {
      "cell_type": "code",
      "source": [
        "train = pd.read_csv('/kaggle/input/task-1/TASK 1/train.csv')\n",
        "test = pd.read_csv('/kaggle/input/task-1/TASK 1/test.csv')"
      ],
      "metadata": {
        "trusted": true,
        "execution": {
          "iopub.status.busy": "2024-12-24T06:19:22.278397Z",
          "iopub.execute_input": "2024-12-24T06:19:22.278985Z",
          "iopub.status.idle": "2024-12-24T06:19:22.360131Z",
          "shell.execute_reply.started": "2024-12-24T06:19:22.278951Z",
          "shell.execute_reply": "2024-12-24T06:19:22.358913Z"
        },
        "id": "bekqmQuU04dY"
      },
      "outputs": [],
      "execution_count": null
    },
    {
      "cell_type": "code",
      "source": [
        "print(\"Train Dataset Info:\")\n",
        "train.info()"
      ],
      "metadata": {
        "trusted": true,
        "execution": {
          "iopub.status.busy": "2024-12-24T06:19:46.077993Z",
          "iopub.execute_input": "2024-12-24T06:19:46.078348Z",
          "iopub.status.idle": "2024-12-24T06:19:46.115729Z",
          "shell.execute_reply.started": "2024-12-24T06:19:46.078322Z",
          "shell.execute_reply": "2024-12-24T06:19:46.114289Z"
        },
        "id": "LiELjPR404dY",
        "outputId": "b16fdfa8-d80a-46c4-b693-9857e1c6e0b9"
      },
      "outputs": [
        {
          "name": "stdout",
          "text": "Train Dataset Info:\n<class 'pandas.core.frame.DataFrame'>\nRangeIndex: 1460 entries, 0 to 1459\nData columns (total 81 columns):\n #   Column         Non-Null Count  Dtype  \n---  ------         --------------  -----  \n 0   Id             1460 non-null   int64  \n 1   MSSubClass     1460 non-null   int64  \n 2   MSZoning       1460 non-null   object \n 3   LotFrontage    1201 non-null   float64\n 4   LotArea        1460 non-null   int64  \n 5   Street         1460 non-null   object \n 6   Alley          91 non-null     object \n 7   LotShape       1460 non-null   object \n 8   LandContour    1460 non-null   object \n 9   Utilities      1460 non-null   object \n 10  LotConfig      1460 non-null   object \n 11  LandSlope      1460 non-null   object \n 12  Neighborhood   1460 non-null   object \n 13  Condition1     1460 non-null   object \n 14  Condition2     1460 non-null   object \n 15  BldgType       1460 non-null   object \n 16  HouseStyle     1460 non-null   object \n 17  OverallQual    1460 non-null   int64  \n 18  OverallCond    1460 non-null   int64  \n 19  YearBuilt      1460 non-null   int64  \n 20  YearRemodAdd   1460 non-null   int64  \n 21  RoofStyle      1460 non-null   object \n 22  RoofMatl       1460 non-null   object \n 23  Exterior1st    1460 non-null   object \n 24  Exterior2nd    1460 non-null   object \n 25  MasVnrType     588 non-null    object \n 26  MasVnrArea     1452 non-null   float64\n 27  ExterQual      1460 non-null   object \n 28  ExterCond      1460 non-null   object \n 29  Foundation     1460 non-null   object \n 30  BsmtQual       1423 non-null   object \n 31  BsmtCond       1423 non-null   object \n 32  BsmtExposure   1422 non-null   object \n 33  BsmtFinType1   1423 non-null   object \n 34  BsmtFinSF1     1460 non-null   int64  \n 35  BsmtFinType2   1422 non-null   object \n 36  BsmtFinSF2     1460 non-null   int64  \n 37  BsmtUnfSF      1460 non-null   int64  \n 38  TotalBsmtSF    1460 non-null   int64  \n 39  Heating        1460 non-null   object \n 40  HeatingQC      1460 non-null   object \n 41  CentralAir     1460 non-null   object \n 42  Electrical     1459 non-null   object \n 43  1stFlrSF       1460 non-null   int64  \n 44  2ndFlrSF       1460 non-null   int64  \n 45  LowQualFinSF   1460 non-null   int64  \n 46  GrLivArea      1460 non-null   int64  \n 47  BsmtFullBath   1460 non-null   int64  \n 48  BsmtHalfBath   1460 non-null   int64  \n 49  FullBath       1460 non-null   int64  \n 50  HalfBath       1460 non-null   int64  \n 51  BedroomAbvGr   1460 non-null   int64  \n 52  KitchenAbvGr   1460 non-null   int64  \n 53  KitchenQual    1460 non-null   object \n 54  TotRmsAbvGrd   1460 non-null   int64  \n 55  Functional     1460 non-null   object \n 56  Fireplaces     1460 non-null   int64  \n 57  FireplaceQu    770 non-null    object \n 58  GarageType     1379 non-null   object \n 59  GarageYrBlt    1379 non-null   float64\n 60  GarageFinish   1379 non-null   object \n 61  GarageCars     1460 non-null   int64  \n 62  GarageArea     1460 non-null   int64  \n 63  GarageQual     1379 non-null   object \n 64  GarageCond     1379 non-null   object \n 65  PavedDrive     1460 non-null   object \n 66  WoodDeckSF     1460 non-null   int64  \n 67  OpenPorchSF    1460 non-null   int64  \n 68  EnclosedPorch  1460 non-null   int64  \n 69  3SsnPorch      1460 non-null   int64  \n 70  ScreenPorch    1460 non-null   int64  \n 71  PoolArea       1460 non-null   int64  \n 72  PoolQC         7 non-null      object \n 73  Fence          281 non-null    object \n 74  MiscFeature    54 non-null     object \n 75  MiscVal        1460 non-null   int64  \n 76  MoSold         1460 non-null   int64  \n 77  YrSold         1460 non-null   int64  \n 78  SaleType       1460 non-null   object \n 79  SaleCondition  1460 non-null   object \n 80  SalePrice      1460 non-null   int64  \ndtypes: float64(3), int64(35), object(43)\nmemory usage: 924.0+ KB\n",
          "output_type": "stream"
        }
      ],
      "execution_count": null
    },
    {
      "cell_type": "code",
      "source": [
        "print(\"\\nTrain Dataset Description:\")\n",
        "train.describe()"
      ],
      "metadata": {
        "trusted": true,
        "execution": {
          "iopub.status.busy": "2024-12-24T06:19:56.818037Z",
          "iopub.execute_input": "2024-12-24T06:19:56.818391Z",
          "iopub.status.idle": "2024-12-24T06:19:56.914387Z",
          "shell.execute_reply.started": "2024-12-24T06:19:56.818363Z",
          "shell.execute_reply": "2024-12-24T06:19:56.913338Z"
        },
        "id": "p_2VRNan04dY",
        "outputId": "db59caa9-6c0d-468f-dfa2-41421cc30f25"
      },
      "outputs": [
        {
          "name": "stdout",
          "text": "\nTrain Dataset Description:\n",
          "output_type": "stream"
        },
        {
          "execution_count": 4,
          "output_type": "execute_result",
          "data": {
            "text/plain": "                Id   MSSubClass  LotFrontage        LotArea  OverallQual  \\\ncount  1460.000000  1460.000000  1201.000000    1460.000000  1460.000000   \nmean    730.500000    56.897260    70.049958   10516.828082     6.099315   \nstd     421.610009    42.300571    24.284752    9981.264932     1.382997   \nmin       1.000000    20.000000    21.000000    1300.000000     1.000000   \n25%     365.750000    20.000000    59.000000    7553.500000     5.000000   \n50%     730.500000    50.000000    69.000000    9478.500000     6.000000   \n75%    1095.250000    70.000000    80.000000   11601.500000     7.000000   \nmax    1460.000000   190.000000   313.000000  215245.000000    10.000000   \n\n       OverallCond    YearBuilt  YearRemodAdd   MasVnrArea   BsmtFinSF1  ...  \\\ncount  1460.000000  1460.000000   1460.000000  1452.000000  1460.000000  ...   \nmean      5.575342  1971.267808   1984.865753   103.685262   443.639726  ...   \nstd       1.112799    30.202904     20.645407   181.066207   456.098091  ...   \nmin       1.000000  1872.000000   1950.000000     0.000000     0.000000  ...   \n25%       5.000000  1954.000000   1967.000000     0.000000     0.000000  ...   \n50%       5.000000  1973.000000   1994.000000     0.000000   383.500000  ...   \n75%       6.000000  2000.000000   2004.000000   166.000000   712.250000  ...   \nmax       9.000000  2010.000000   2010.000000  1600.000000  5644.000000  ...   \n\n        WoodDeckSF  OpenPorchSF  EnclosedPorch    3SsnPorch  ScreenPorch  \\\ncount  1460.000000  1460.000000    1460.000000  1460.000000  1460.000000   \nmean     94.244521    46.660274      21.954110     3.409589    15.060959   \nstd     125.338794    66.256028      61.119149    29.317331    55.757415   \nmin       0.000000     0.000000       0.000000     0.000000     0.000000   \n25%       0.000000     0.000000       0.000000     0.000000     0.000000   \n50%       0.000000    25.000000       0.000000     0.000000     0.000000   \n75%     168.000000    68.000000       0.000000     0.000000     0.000000   \nmax     857.000000   547.000000     552.000000   508.000000   480.000000   \n\n          PoolArea       MiscVal       MoSold       YrSold      SalePrice  \ncount  1460.000000   1460.000000  1460.000000  1460.000000    1460.000000  \nmean      2.758904     43.489041     6.321918  2007.815753  180921.195890  \nstd      40.177307    496.123024     2.703626     1.328095   79442.502883  \nmin       0.000000      0.000000     1.000000  2006.000000   34900.000000  \n25%       0.000000      0.000000     5.000000  2007.000000  129975.000000  \n50%       0.000000      0.000000     6.000000  2008.000000  163000.000000  \n75%       0.000000      0.000000     8.000000  2009.000000  214000.000000  \nmax     738.000000  15500.000000    12.000000  2010.000000  755000.000000  \n\n[8 rows x 38 columns]",
            "text/html": "<div>\n<style scoped>\n    .dataframe tbody tr th:only-of-type {\n        vertical-align: middle;\n    }\n\n    .dataframe tbody tr th {\n        vertical-align: top;\n    }\n\n    .dataframe thead th {\n        text-align: right;\n    }\n</style>\n<table border=\"1\" class=\"dataframe\">\n  <thead>\n    <tr style=\"text-align: right;\">\n      <th></th>\n      <th>Id</th>\n      <th>MSSubClass</th>\n      <th>LotFrontage</th>\n      <th>LotArea</th>\n      <th>OverallQual</th>\n      <th>OverallCond</th>\n      <th>YearBuilt</th>\n      <th>YearRemodAdd</th>\n      <th>MasVnrArea</th>\n      <th>BsmtFinSF1</th>\n      <th>...</th>\n      <th>WoodDeckSF</th>\n      <th>OpenPorchSF</th>\n      <th>EnclosedPorch</th>\n      <th>3SsnPorch</th>\n      <th>ScreenPorch</th>\n      <th>PoolArea</th>\n      <th>MiscVal</th>\n      <th>MoSold</th>\n      <th>YrSold</th>\n      <th>SalePrice</th>\n    </tr>\n  </thead>\n  <tbody>\n    <tr>\n      <th>count</th>\n      <td>1460.000000</td>\n      <td>1460.000000</td>\n      <td>1201.000000</td>\n      <td>1460.000000</td>\n      <td>1460.000000</td>\n      <td>1460.000000</td>\n      <td>1460.000000</td>\n      <td>1460.000000</td>\n      <td>1452.000000</td>\n      <td>1460.000000</td>\n      <td>...</td>\n      <td>1460.000000</td>\n      <td>1460.000000</td>\n      <td>1460.000000</td>\n      <td>1460.000000</td>\n      <td>1460.000000</td>\n      <td>1460.000000</td>\n      <td>1460.000000</td>\n      <td>1460.000000</td>\n      <td>1460.000000</td>\n      <td>1460.000000</td>\n    </tr>\n    <tr>\n      <th>mean</th>\n      <td>730.500000</td>\n      <td>56.897260</td>\n      <td>70.049958</td>\n      <td>10516.828082</td>\n      <td>6.099315</td>\n      <td>5.575342</td>\n      <td>1971.267808</td>\n      <td>1984.865753</td>\n      <td>103.685262</td>\n      <td>443.639726</td>\n      <td>...</td>\n      <td>94.244521</td>\n      <td>46.660274</td>\n      <td>21.954110</td>\n      <td>3.409589</td>\n      <td>15.060959</td>\n      <td>2.758904</td>\n      <td>43.489041</td>\n      <td>6.321918</td>\n      <td>2007.815753</td>\n      <td>180921.195890</td>\n    </tr>\n    <tr>\n      <th>std</th>\n      <td>421.610009</td>\n      <td>42.300571</td>\n      <td>24.284752</td>\n      <td>9981.264932</td>\n      <td>1.382997</td>\n      <td>1.112799</td>\n      <td>30.202904</td>\n      <td>20.645407</td>\n      <td>181.066207</td>\n      <td>456.098091</td>\n      <td>...</td>\n      <td>125.338794</td>\n      <td>66.256028</td>\n      <td>61.119149</td>\n      <td>29.317331</td>\n      <td>55.757415</td>\n      <td>40.177307</td>\n      <td>496.123024</td>\n      <td>2.703626</td>\n      <td>1.328095</td>\n      <td>79442.502883</td>\n    </tr>\n    <tr>\n      <th>min</th>\n      <td>1.000000</td>\n      <td>20.000000</td>\n      <td>21.000000</td>\n      <td>1300.000000</td>\n      <td>1.000000</td>\n      <td>1.000000</td>\n      <td>1872.000000</td>\n      <td>1950.000000</td>\n      <td>0.000000</td>\n      <td>0.000000</td>\n      <td>...</td>\n      <td>0.000000</td>\n      <td>0.000000</td>\n      <td>0.000000</td>\n      <td>0.000000</td>\n      <td>0.000000</td>\n      <td>0.000000</td>\n      <td>0.000000</td>\n      <td>1.000000</td>\n      <td>2006.000000</td>\n      <td>34900.000000</td>\n    </tr>\n    <tr>\n      <th>25%</th>\n      <td>365.750000</td>\n      <td>20.000000</td>\n      <td>59.000000</td>\n      <td>7553.500000</td>\n      <td>5.000000</td>\n      <td>5.000000</td>\n      <td>1954.000000</td>\n      <td>1967.000000</td>\n      <td>0.000000</td>\n      <td>0.000000</td>\n      <td>...</td>\n      <td>0.000000</td>\n      <td>0.000000</td>\n      <td>0.000000</td>\n      <td>0.000000</td>\n      <td>0.000000</td>\n      <td>0.000000</td>\n      <td>0.000000</td>\n      <td>5.000000</td>\n      <td>2007.000000</td>\n      <td>129975.000000</td>\n    </tr>\n    <tr>\n      <th>50%</th>\n      <td>730.500000</td>\n      <td>50.000000</td>\n      <td>69.000000</td>\n      <td>9478.500000</td>\n      <td>6.000000</td>\n      <td>5.000000</td>\n      <td>1973.000000</td>\n      <td>1994.000000</td>\n      <td>0.000000</td>\n      <td>383.500000</td>\n      <td>...</td>\n      <td>0.000000</td>\n      <td>25.000000</td>\n      <td>0.000000</td>\n      <td>0.000000</td>\n      <td>0.000000</td>\n      <td>0.000000</td>\n      <td>0.000000</td>\n      <td>6.000000</td>\n      <td>2008.000000</td>\n      <td>163000.000000</td>\n    </tr>\n    <tr>\n      <th>75%</th>\n      <td>1095.250000</td>\n      <td>70.000000</td>\n      <td>80.000000</td>\n      <td>11601.500000</td>\n      <td>7.000000</td>\n      <td>6.000000</td>\n      <td>2000.000000</td>\n      <td>2004.000000</td>\n      <td>166.000000</td>\n      <td>712.250000</td>\n      <td>...</td>\n      <td>168.000000</td>\n      <td>68.000000</td>\n      <td>0.000000</td>\n      <td>0.000000</td>\n      <td>0.000000</td>\n      <td>0.000000</td>\n      <td>0.000000</td>\n      <td>8.000000</td>\n      <td>2009.000000</td>\n      <td>214000.000000</td>\n    </tr>\n    <tr>\n      <th>max</th>\n      <td>1460.000000</td>\n      <td>190.000000</td>\n      <td>313.000000</td>\n      <td>215245.000000</td>\n      <td>10.000000</td>\n      <td>9.000000</td>\n      <td>2010.000000</td>\n      <td>2010.000000</td>\n      <td>1600.000000</td>\n      <td>5644.000000</td>\n      <td>...</td>\n      <td>857.000000</td>\n      <td>547.000000</td>\n      <td>552.000000</td>\n      <td>508.000000</td>\n      <td>480.000000</td>\n      <td>738.000000</td>\n      <td>15500.000000</td>\n      <td>12.000000</td>\n      <td>2010.000000</td>\n      <td>755000.000000</td>\n    </tr>\n  </tbody>\n</table>\n<p>8 rows × 38 columns</p>\n</div>"
          },
          "metadata": {}
        }
      ],
      "execution_count": null
    },
    {
      "cell_type": "code",
      "source": [
        "train.head()"
      ],
      "metadata": {
        "trusted": true,
        "execution": {
          "iopub.status.busy": "2024-12-24T06:20:07.493737Z",
          "iopub.execute_input": "2024-12-24T06:20:07.494197Z",
          "iopub.status.idle": "2024-12-24T06:20:07.526197Z",
          "shell.execute_reply.started": "2024-12-24T06:20:07.494160Z",
          "shell.execute_reply": "2024-12-24T06:20:07.524560Z"
        },
        "id": "CkH-3yBX04dZ",
        "outputId": "c93d45c2-6847-4354-ae1d-1491a857c07b"
      },
      "outputs": [
        {
          "execution_count": 5,
          "output_type": "execute_result",
          "data": {
            "text/plain": "   Id  MSSubClass MSZoning  LotFrontage  LotArea Street Alley LotShape  \\\n0   1          60       RL         65.0     8450   Pave   NaN      Reg   \n1   2          20       RL         80.0     9600   Pave   NaN      Reg   \n2   3          60       RL         68.0    11250   Pave   NaN      IR1   \n3   4          70       RL         60.0     9550   Pave   NaN      IR1   \n4   5          60       RL         84.0    14260   Pave   NaN      IR1   \n\n  LandContour Utilities  ... PoolArea PoolQC Fence MiscFeature MiscVal MoSold  \\\n0         Lvl    AllPub  ...        0    NaN   NaN         NaN       0      2   \n1         Lvl    AllPub  ...        0    NaN   NaN         NaN       0      5   \n2         Lvl    AllPub  ...        0    NaN   NaN         NaN       0      9   \n3         Lvl    AllPub  ...        0    NaN   NaN         NaN       0      2   \n4         Lvl    AllPub  ...        0    NaN   NaN         NaN       0     12   \n\n  YrSold  SaleType  SaleCondition  SalePrice  \n0   2008        WD         Normal     208500  \n1   2007        WD         Normal     181500  \n2   2008        WD         Normal     223500  \n3   2006        WD        Abnorml     140000  \n4   2008        WD         Normal     250000  \n\n[5 rows x 81 columns]",
            "text/html": "<div>\n<style scoped>\n    .dataframe tbody tr th:only-of-type {\n        vertical-align: middle;\n    }\n\n    .dataframe tbody tr th {\n        vertical-align: top;\n    }\n\n    .dataframe thead th {\n        text-align: right;\n    }\n</style>\n<table border=\"1\" class=\"dataframe\">\n  <thead>\n    <tr style=\"text-align: right;\">\n      <th></th>\n      <th>Id</th>\n      <th>MSSubClass</th>\n      <th>MSZoning</th>\n      <th>LotFrontage</th>\n      <th>LotArea</th>\n      <th>Street</th>\n      <th>Alley</th>\n      <th>LotShape</th>\n      <th>LandContour</th>\n      <th>Utilities</th>\n      <th>...</th>\n      <th>PoolArea</th>\n      <th>PoolQC</th>\n      <th>Fence</th>\n      <th>MiscFeature</th>\n      <th>MiscVal</th>\n      <th>MoSold</th>\n      <th>YrSold</th>\n      <th>SaleType</th>\n      <th>SaleCondition</th>\n      <th>SalePrice</th>\n    </tr>\n  </thead>\n  <tbody>\n    <tr>\n      <th>0</th>\n      <td>1</td>\n      <td>60</td>\n      <td>RL</td>\n      <td>65.0</td>\n      <td>8450</td>\n      <td>Pave</td>\n      <td>NaN</td>\n      <td>Reg</td>\n      <td>Lvl</td>\n      <td>AllPub</td>\n      <td>...</td>\n      <td>0</td>\n      <td>NaN</td>\n      <td>NaN</td>\n      <td>NaN</td>\n      <td>0</td>\n      <td>2</td>\n      <td>2008</td>\n      <td>WD</td>\n      <td>Normal</td>\n      <td>208500</td>\n    </tr>\n    <tr>\n      <th>1</th>\n      <td>2</td>\n      <td>20</td>\n      <td>RL</td>\n      <td>80.0</td>\n      <td>9600</td>\n      <td>Pave</td>\n      <td>NaN</td>\n      <td>Reg</td>\n      <td>Lvl</td>\n      <td>AllPub</td>\n      <td>...</td>\n      <td>0</td>\n      <td>NaN</td>\n      <td>NaN</td>\n      <td>NaN</td>\n      <td>0</td>\n      <td>5</td>\n      <td>2007</td>\n      <td>WD</td>\n      <td>Normal</td>\n      <td>181500</td>\n    </tr>\n    <tr>\n      <th>2</th>\n      <td>3</td>\n      <td>60</td>\n      <td>RL</td>\n      <td>68.0</td>\n      <td>11250</td>\n      <td>Pave</td>\n      <td>NaN</td>\n      <td>IR1</td>\n      <td>Lvl</td>\n      <td>AllPub</td>\n      <td>...</td>\n      <td>0</td>\n      <td>NaN</td>\n      <td>NaN</td>\n      <td>NaN</td>\n      <td>0</td>\n      <td>9</td>\n      <td>2008</td>\n      <td>WD</td>\n      <td>Normal</td>\n      <td>223500</td>\n    </tr>\n    <tr>\n      <th>3</th>\n      <td>4</td>\n      <td>70</td>\n      <td>RL</td>\n      <td>60.0</td>\n      <td>9550</td>\n      <td>Pave</td>\n      <td>NaN</td>\n      <td>IR1</td>\n      <td>Lvl</td>\n      <td>AllPub</td>\n      <td>...</td>\n      <td>0</td>\n      <td>NaN</td>\n      <td>NaN</td>\n      <td>NaN</td>\n      <td>0</td>\n      <td>2</td>\n      <td>2006</td>\n      <td>WD</td>\n      <td>Abnorml</td>\n      <td>140000</td>\n    </tr>\n    <tr>\n      <th>4</th>\n      <td>5</td>\n      <td>60</td>\n      <td>RL</td>\n      <td>84.0</td>\n      <td>14260</td>\n      <td>Pave</td>\n      <td>NaN</td>\n      <td>IR1</td>\n      <td>Lvl</td>\n      <td>AllPub</td>\n      <td>...</td>\n      <td>0</td>\n      <td>NaN</td>\n      <td>NaN</td>\n      <td>NaN</td>\n      <td>0</td>\n      <td>12</td>\n      <td>2008</td>\n      <td>WD</td>\n      <td>Normal</td>\n      <td>250000</td>\n    </tr>\n  </tbody>\n</table>\n<p>5 rows × 81 columns</p>\n</div>"
          },
          "metadata": {}
        }
      ],
      "execution_count": null
    },
    {
      "cell_type": "markdown",
      "source": [
        "3. Data preprocessing\n",
        "\n",
        "We will focus only on numerical features since our linear regression model only works with numerical data."
      ],
      "metadata": {
        "id": "Y2SVG6rW04dZ"
      }
    },
    {
      "cell_type": "code",
      "source": [
        "numerics = ['int16', 'int32', 'int64', 'float16', 'float32', 'float64']\n",
        "train = train.select_dtypes(include=numerics)\n",
        "test = test.select_dtypes(include=numerics)"
      ],
      "metadata": {
        "trusted": true,
        "execution": {
          "iopub.status.busy": "2024-12-24T06:21:46.677869Z",
          "iopub.execute_input": "2024-12-24T06:21:46.678285Z",
          "iopub.status.idle": "2024-12-24T06:21:46.685539Z",
          "shell.execute_reply.started": "2024-12-24T06:21:46.678257Z",
          "shell.execute_reply": "2024-12-24T06:21:46.684524Z"
        },
        "id": "-OPuDnmW04dZ"
      },
      "outputs": [],
      "execution_count": null
    },
    {
      "cell_type": "code",
      "source": [
        "train.head()"
      ],
      "metadata": {
        "trusted": true,
        "execution": {
          "iopub.status.busy": "2024-12-24T06:21:58.753043Z",
          "iopub.execute_input": "2024-12-24T06:21:58.753385Z",
          "iopub.status.idle": "2024-12-24T06:21:58.773209Z",
          "shell.execute_reply.started": "2024-12-24T06:21:58.753360Z",
          "shell.execute_reply": "2024-12-24T06:21:58.771900Z"
        },
        "id": "SRzVshcW04dZ",
        "outputId": "b5c83227-945b-4c46-c583-71aa12ce9f7b"
      },
      "outputs": [
        {
          "execution_count": 7,
          "output_type": "execute_result",
          "data": {
            "text/plain": "   Id  MSSubClass  LotFrontage  LotArea  OverallQual  OverallCond  YearBuilt  \\\n0   1          60         65.0     8450            7            5       2003   \n1   2          20         80.0     9600            6            8       1976   \n2   3          60         68.0    11250            7            5       2001   \n3   4          70         60.0     9550            7            5       1915   \n4   5          60         84.0    14260            8            5       2000   \n\n   YearRemodAdd  MasVnrArea  BsmtFinSF1  ...  WoodDeckSF  OpenPorchSF  \\\n0          2003       196.0         706  ...           0           61   \n1          1976         0.0         978  ...         298            0   \n2          2002       162.0         486  ...           0           42   \n3          1970         0.0         216  ...           0           35   \n4          2000       350.0         655  ...         192           84   \n\n   EnclosedPorch  3SsnPorch  ScreenPorch  PoolArea  MiscVal  MoSold  YrSold  \\\n0              0          0            0         0        0       2    2008   \n1              0          0            0         0        0       5    2007   \n2              0          0            0         0        0       9    2008   \n3            272          0            0         0        0       2    2006   \n4              0          0            0         0        0      12    2008   \n\n   SalePrice  \n0     208500  \n1     181500  \n2     223500  \n3     140000  \n4     250000  \n\n[5 rows x 38 columns]",
            "text/html": "<div>\n<style scoped>\n    .dataframe tbody tr th:only-of-type {\n        vertical-align: middle;\n    }\n\n    .dataframe tbody tr th {\n        vertical-align: top;\n    }\n\n    .dataframe thead th {\n        text-align: right;\n    }\n</style>\n<table border=\"1\" class=\"dataframe\">\n  <thead>\n    <tr style=\"text-align: right;\">\n      <th></th>\n      <th>Id</th>\n      <th>MSSubClass</th>\n      <th>LotFrontage</th>\n      <th>LotArea</th>\n      <th>OverallQual</th>\n      <th>OverallCond</th>\n      <th>YearBuilt</th>\n      <th>YearRemodAdd</th>\n      <th>MasVnrArea</th>\n      <th>BsmtFinSF1</th>\n      <th>...</th>\n      <th>WoodDeckSF</th>\n      <th>OpenPorchSF</th>\n      <th>EnclosedPorch</th>\n      <th>3SsnPorch</th>\n      <th>ScreenPorch</th>\n      <th>PoolArea</th>\n      <th>MiscVal</th>\n      <th>MoSold</th>\n      <th>YrSold</th>\n      <th>SalePrice</th>\n    </tr>\n  </thead>\n  <tbody>\n    <tr>\n      <th>0</th>\n      <td>1</td>\n      <td>60</td>\n      <td>65.0</td>\n      <td>8450</td>\n      <td>7</td>\n      <td>5</td>\n      <td>2003</td>\n      <td>2003</td>\n      <td>196.0</td>\n      <td>706</td>\n      <td>...</td>\n      <td>0</td>\n      <td>61</td>\n      <td>0</td>\n      <td>0</td>\n      <td>0</td>\n      <td>0</td>\n      <td>0</td>\n      <td>2</td>\n      <td>2008</td>\n      <td>208500</td>\n    </tr>\n    <tr>\n      <th>1</th>\n      <td>2</td>\n      <td>20</td>\n      <td>80.0</td>\n      <td>9600</td>\n      <td>6</td>\n      <td>8</td>\n      <td>1976</td>\n      <td>1976</td>\n      <td>0.0</td>\n      <td>978</td>\n      <td>...</td>\n      <td>298</td>\n      <td>0</td>\n      <td>0</td>\n      <td>0</td>\n      <td>0</td>\n      <td>0</td>\n      <td>0</td>\n      <td>5</td>\n      <td>2007</td>\n      <td>181500</td>\n    </tr>\n    <tr>\n      <th>2</th>\n      <td>3</td>\n      <td>60</td>\n      <td>68.0</td>\n      <td>11250</td>\n      <td>7</td>\n      <td>5</td>\n      <td>2001</td>\n      <td>2002</td>\n      <td>162.0</td>\n      <td>486</td>\n      <td>...</td>\n      <td>0</td>\n      <td>42</td>\n      <td>0</td>\n      <td>0</td>\n      <td>0</td>\n      <td>0</td>\n      <td>0</td>\n      <td>9</td>\n      <td>2008</td>\n      <td>223500</td>\n    </tr>\n    <tr>\n      <th>3</th>\n      <td>4</td>\n      <td>70</td>\n      <td>60.0</td>\n      <td>9550</td>\n      <td>7</td>\n      <td>5</td>\n      <td>1915</td>\n      <td>1970</td>\n      <td>0.0</td>\n      <td>216</td>\n      <td>...</td>\n      <td>0</td>\n      <td>35</td>\n      <td>272</td>\n      <td>0</td>\n      <td>0</td>\n      <td>0</td>\n      <td>0</td>\n      <td>2</td>\n      <td>2006</td>\n      <td>140000</td>\n    </tr>\n    <tr>\n      <th>4</th>\n      <td>5</td>\n      <td>60</td>\n      <td>84.0</td>\n      <td>14260</td>\n      <td>8</td>\n      <td>5</td>\n      <td>2000</td>\n      <td>2000</td>\n      <td>350.0</td>\n      <td>655</td>\n      <td>...</td>\n      <td>192</td>\n      <td>84</td>\n      <td>0</td>\n      <td>0</td>\n      <td>0</td>\n      <td>0</td>\n      <td>0</td>\n      <td>12</td>\n      <td>2008</td>\n      <td>250000</td>\n    </tr>\n  </tbody>\n</table>\n<p>5 rows × 38 columns</p>\n</div>"
          },
          "metadata": {}
        }
      ],
      "execution_count": null
    },
    {
      "cell_type": "code",
      "source": [
        "# Drop columns with null values\n",
        "train = train.loc[:, train.isnull().sum() == 0]\n",
        "test = test.loc[:, train.columns.drop(['SalePrice'])]"
      ],
      "metadata": {
        "trusted": true,
        "execution": {
          "iopub.status.busy": "2024-12-24T06:23:24.698287Z",
          "iopub.execute_input": "2024-12-24T06:23:24.698710Z",
          "iopub.status.idle": "2024-12-24T06:23:24.706693Z",
          "shell.execute_reply.started": "2024-12-24T06:23:24.698678Z",
          "shell.execute_reply": "2024-12-24T06:23:24.705692Z"
        },
        "id": "GRoUz2jr04dZ"
      },
      "outputs": [],
      "execution_count": null
    },
    {
      "cell_type": "code",
      "source": [
        "train.head()"
      ],
      "metadata": {
        "trusted": true,
        "execution": {
          "iopub.status.busy": "2024-12-24T06:23:42.958251Z",
          "iopub.execute_input": "2024-12-24T06:23:42.958586Z",
          "iopub.status.idle": "2024-12-24T06:23:42.973712Z",
          "shell.execute_reply.started": "2024-12-24T06:23:42.958559Z",
          "shell.execute_reply": "2024-12-24T06:23:42.972487Z"
        },
        "id": "mXda4FMO04dZ",
        "outputId": "73a88b25-8852-46f9-eea2-736fd5e4be2c"
      },
      "outputs": [
        {
          "execution_count": 9,
          "output_type": "execute_result",
          "data": {
            "text/plain": "   Id  MSSubClass  LotArea  OverallQual  OverallCond  YearBuilt  YearRemodAdd  \\\n0   1          60     8450            7            5       2003          2003   \n1   2          20     9600            6            8       1976          1976   \n2   3          60    11250            7            5       2001          2002   \n3   4          70     9550            7            5       1915          1970   \n4   5          60    14260            8            5       2000          2000   \n\n   BsmtFinSF1  BsmtFinSF2  BsmtUnfSF  ...  WoodDeckSF  OpenPorchSF  \\\n0         706           0        150  ...           0           61   \n1         978           0        284  ...         298            0   \n2         486           0        434  ...           0           42   \n3         216           0        540  ...           0           35   \n4         655           0        490  ...         192           84   \n\n   EnclosedPorch  3SsnPorch  ScreenPorch  PoolArea  MiscVal  MoSold  YrSold  \\\n0              0          0            0         0        0       2    2008   \n1              0          0            0         0        0       5    2007   \n2              0          0            0         0        0       9    2008   \n3            272          0            0         0        0       2    2006   \n4              0          0            0         0        0      12    2008   \n\n   SalePrice  \n0     208500  \n1     181500  \n2     223500  \n3     140000  \n4     250000  \n\n[5 rows x 35 columns]",
            "text/html": "<div>\n<style scoped>\n    .dataframe tbody tr th:only-of-type {\n        vertical-align: middle;\n    }\n\n    .dataframe tbody tr th {\n        vertical-align: top;\n    }\n\n    .dataframe thead th {\n        text-align: right;\n    }\n</style>\n<table border=\"1\" class=\"dataframe\">\n  <thead>\n    <tr style=\"text-align: right;\">\n      <th></th>\n      <th>Id</th>\n      <th>MSSubClass</th>\n      <th>LotArea</th>\n      <th>OverallQual</th>\n      <th>OverallCond</th>\n      <th>YearBuilt</th>\n      <th>YearRemodAdd</th>\n      <th>BsmtFinSF1</th>\n      <th>BsmtFinSF2</th>\n      <th>BsmtUnfSF</th>\n      <th>...</th>\n      <th>WoodDeckSF</th>\n      <th>OpenPorchSF</th>\n      <th>EnclosedPorch</th>\n      <th>3SsnPorch</th>\n      <th>ScreenPorch</th>\n      <th>PoolArea</th>\n      <th>MiscVal</th>\n      <th>MoSold</th>\n      <th>YrSold</th>\n      <th>SalePrice</th>\n    </tr>\n  </thead>\n  <tbody>\n    <tr>\n      <th>0</th>\n      <td>1</td>\n      <td>60</td>\n      <td>8450</td>\n      <td>7</td>\n      <td>5</td>\n      <td>2003</td>\n      <td>2003</td>\n      <td>706</td>\n      <td>0</td>\n      <td>150</td>\n      <td>...</td>\n      <td>0</td>\n      <td>61</td>\n      <td>0</td>\n      <td>0</td>\n      <td>0</td>\n      <td>0</td>\n      <td>0</td>\n      <td>2</td>\n      <td>2008</td>\n      <td>208500</td>\n    </tr>\n    <tr>\n      <th>1</th>\n      <td>2</td>\n      <td>20</td>\n      <td>9600</td>\n      <td>6</td>\n      <td>8</td>\n      <td>1976</td>\n      <td>1976</td>\n      <td>978</td>\n      <td>0</td>\n      <td>284</td>\n      <td>...</td>\n      <td>298</td>\n      <td>0</td>\n      <td>0</td>\n      <td>0</td>\n      <td>0</td>\n      <td>0</td>\n      <td>0</td>\n      <td>5</td>\n      <td>2007</td>\n      <td>181500</td>\n    </tr>\n    <tr>\n      <th>2</th>\n      <td>3</td>\n      <td>60</td>\n      <td>11250</td>\n      <td>7</td>\n      <td>5</td>\n      <td>2001</td>\n      <td>2002</td>\n      <td>486</td>\n      <td>0</td>\n      <td>434</td>\n      <td>...</td>\n      <td>0</td>\n      <td>42</td>\n      <td>0</td>\n      <td>0</td>\n      <td>0</td>\n      <td>0</td>\n      <td>0</td>\n      <td>9</td>\n      <td>2008</td>\n      <td>223500</td>\n    </tr>\n    <tr>\n      <th>3</th>\n      <td>4</td>\n      <td>70</td>\n      <td>9550</td>\n      <td>7</td>\n      <td>5</td>\n      <td>1915</td>\n      <td>1970</td>\n      <td>216</td>\n      <td>0</td>\n      <td>540</td>\n      <td>...</td>\n      <td>0</td>\n      <td>35</td>\n      <td>272</td>\n      <td>0</td>\n      <td>0</td>\n      <td>0</td>\n      <td>0</td>\n      <td>2</td>\n      <td>2006</td>\n      <td>140000</td>\n    </tr>\n    <tr>\n      <th>4</th>\n      <td>5</td>\n      <td>60</td>\n      <td>14260</td>\n      <td>8</td>\n      <td>5</td>\n      <td>2000</td>\n      <td>2000</td>\n      <td>655</td>\n      <td>0</td>\n      <td>490</td>\n      <td>...</td>\n      <td>192</td>\n      <td>84</td>\n      <td>0</td>\n      <td>0</td>\n      <td>0</td>\n      <td>0</td>\n      <td>0</td>\n      <td>12</td>\n      <td>2008</td>\n      <td>250000</td>\n    </tr>\n  </tbody>\n</table>\n<p>5 rows × 35 columns</p>\n</div>"
          },
          "metadata": {}
        }
      ],
      "execution_count": null
    },
    {
      "cell_type": "markdown",
      "source": [
        "4. Splitting data"
      ],
      "metadata": {
        "id": "s1Sq_Ir404da"
      }
    },
    {
      "cell_type": "code",
      "source": [
        "# Splitting the data into features (X) and target variable (y)\n",
        "X = train[train.columns.drop(['SalePrice'])]\n",
        "y = train[['SalePrice']]\n",
        "\n",
        "X_train, X_val, y_train, y_val = train_test_split(X, y, test_size=0.33, random_state=42)"
      ],
      "metadata": {
        "trusted": true,
        "execution": {
          "iopub.status.busy": "2024-12-24T06:24:37.098513Z",
          "iopub.execute_input": "2024-12-24T06:24:37.098912Z",
          "iopub.status.idle": "2024-12-24T06:24:37.110319Z",
          "shell.execute_reply.started": "2024-12-24T06:24:37.098884Z",
          "shell.execute_reply": "2024-12-24T06:24:37.109229Z"
        },
        "id": "4-p7tVkE04da"
      },
      "outputs": [],
      "execution_count": null
    },
    {
      "cell_type": "code",
      "source": [
        "print(\"Original train shape:\", X.shape)\n",
        "print(\"X_train shape:\", X_train.shape)\n",
        "print(\"X_val shape:\", X_val.shape)\n",
        "print(\"y_train shape:\", y_train.shape)\n",
        "print(\"y_val shape:\", y_val.shape)"
      ],
      "metadata": {
        "trusted": true,
        "execution": {
          "iopub.status.busy": "2024-12-24T06:24:48.298464Z",
          "iopub.execute_input": "2024-12-24T06:24:48.298888Z",
          "iopub.status.idle": "2024-12-24T06:24:48.306818Z",
          "shell.execute_reply.started": "2024-12-24T06:24:48.298815Z",
          "shell.execute_reply": "2024-12-24T06:24:48.305754Z"
        },
        "id": "eyaaTVDD04da",
        "outputId": "d04eee40-8c99-4b71-e64d-83894f9acf9f"
      },
      "outputs": [
        {
          "name": "stdout",
          "text": "Original train shape: (1460, 34)\nX_train shape: (978, 34)\nX_val shape: (482, 34)\ny_train shape: (978, 1)\ny_val shape: (482, 1)\n",
          "output_type": "stream"
        }
      ],
      "execution_count": null
    },
    {
      "cell_type": "markdown",
      "source": [
        "5. Feature Scaling\n",
        "\n",
        "Feature scaling is crucial when training machine learning models, especially for models like linear regression, which rely on gradient-based optimization methods. The features in our dataset have different scales (e.g., square footage vs. overall quality), which can negatively impact the model's performance.\n",
        "\n",
        "We apply **standardization**, which scales the features to have a mean of 0 and a standard deviation of 1. This ensures that each feature contributes equally to the model."
      ],
      "metadata": {
        "id": "Roan9yEL04da"
      }
    },
    {
      "cell_type": "code",
      "source": [
        "# Feature scaling to standardize the data (zero mean, unit variance)\n",
        "sc = StandardScaler()\n",
        "\n",
        "# Fit the scaler on the training data and transform both training and validation sets\n",
        "X_train_sc = sc.fit_transform(X_train)\n",
        "X_val_sc = sc.transform(X_val)"
      ],
      "metadata": {
        "trusted": true,
        "execution": {
          "iopub.status.busy": "2024-12-24T06:27:19.837800Z",
          "iopub.execute_input": "2024-12-24T06:27:19.838200Z",
          "iopub.status.idle": "2024-12-24T06:27:19.934000Z",
          "shell.execute_reply.started": "2024-12-24T06:27:19.838169Z",
          "shell.execute_reply": "2024-12-24T06:27:19.932625Z"
        },
        "id": "Remye6fs04da"
      },
      "outputs": [],
      "execution_count": null
    },
    {
      "cell_type": "code",
      "source": [
        "X_train_sc[:5]"
      ],
      "metadata": {
        "trusted": true,
        "execution": {
          "iopub.status.busy": "2024-12-24T06:27:24.157865Z",
          "iopub.execute_input": "2024-12-24T06:27:24.158267Z",
          "iopub.status.idle": "2024-12-24T06:27:24.166568Z",
          "shell.execute_reply.started": "2024-12-24T06:27:24.158236Z",
          "shell.execute_reply": "2024-12-24T06:27:24.165680Z"
        },
        "id": "cxUeMXYr04da",
        "outputId": "10f82197-34e7-4299-c698-237ab3401c2f"
      },
      "outputs": [
        {
          "execution_count": 14,
          "output_type": "execute_result",
          "data": {
            "text/plain": "array([[-0.26347343,  0.64818752, -0.16826381, -0.08733695,  1.28679438,\n        -0.26050401, -1.05296364,  0.68359419, -0.27472719, -0.89165743,\n        -0.2754465 , -0.29259108, -0.8023907 , -0.11867659, -0.90140587,\n         1.1083909 , -0.25123302, -1.07068735, -0.75698076,  0.14496452,\n        -0.21467306, -0.3305751 , -0.94121794,  0.29309491,  0.01333232,\n         0.17281309, -0.71539022, -0.34589803, -0.12201084, -0.27617729,\n        -0.06304032, -0.1246488 , -0.51681818,  1.65360578],\n       [-0.26815196, -0.86866433, -0.20272184, -0.81738431, -0.50975794,\n         1.1709873 ,  1.06754981, -0.52794254, -0.27472719,  0.77740456,\n         0.13575922, -0.12299393, -0.8023907 , -0.11867659, -0.77524212,\n        -0.81360608, -0.25123302, -1.07068735, -0.75698076,  0.14496452,\n        -0.21467306, -0.3305751 , -0.94121794, -2.43687485, -2.27254222,\n        -0.74014413, -0.2848442 , -0.34589803, -0.12201084, -0.27617729,\n        -0.06304032, -0.1246488 ,  2.10986129, -0.60614241],\n       [ 1.34594062, -0.86866433, -0.17796054,  0.6427104 , -0.50975794,\n         1.10591951,  0.97116284, -0.97601537, -0.27472719,  2.35862119,\n         1.24422683,  1.15155436, -0.8023907 , -0.11867659,  0.17289758,\n        -0.81360608, -0.25123302,  0.76638674, -0.75698076,  0.14496452,\n        -0.21467306,  0.28759402, -0.94121794,  1.6580798 ,  1.6991648 ,\n         0.84231506,  0.13135029, -0.34589803, -0.12201084, -0.27617729,\n        -0.06304032, -0.1246488 , -0.8920581 , -1.35939181],\n       [-0.56523856, -0.86866433, -0.03934924, -0.81738431,  1.28679438,\n        -0.19543622, -0.95657667,  0.84237728, -0.27472719, -0.74750093,\n         0.03072298, -0.24376766, -0.8023907 , -0.11867659, -0.86508601,\n         1.1083909 , -0.25123302, -1.07068735,  1.2657711 ,  0.14496452,\n        -0.21467306, -0.3305751 , -0.94121794,  0.29309491,  0.18001067,\n        -0.74014413, -0.71539022, -0.34589803, -0.12201084, -0.27617729,\n        -0.06304032, -0.1246488 , -0.14157825, -0.60614241],\n       [-0.38979372, -0.86866433, -0.06350449, -0.81738431, -0.50975794,\n         0.09736882, -0.47464179,  1.35352832,  0.53618787, -0.84210364,\n         0.73692411,  0.56824295, -0.8023907 , -0.11867659, -0.26102926,\n         1.1083909 , -0.25123302, -1.07068735, -0.75698076, -1.0878642 ,\n        -0.21467306, -0.3305751 ,  0.59552855,  0.29309491, -0.28192647,\n         1.08577032, -0.17003193, -0.34589803, -0.12201084, -0.27617729,\n        -0.06304032, -0.1246488 , -0.8920581 , -1.35939181]])"
          },
          "metadata": {}
        }
      ],
      "execution_count": null
    },
    {
      "cell_type": "markdown",
      "source": [
        "6. Model Training"
      ],
      "metadata": {
        "id": "J8hOBWv404da"
      }
    },
    {
      "cell_type": "code",
      "source": [
        "# Train the Linear Regression model\n",
        "model = LinearRegression()\n",
        "model.fit(X_train_sc, y_train)"
      ],
      "metadata": {
        "trusted": true,
        "execution": {
          "iopub.status.busy": "2024-12-24T06:28:01.238968Z",
          "iopub.execute_input": "2024-12-24T06:28:01.239344Z",
          "iopub.status.idle": "2024-12-24T06:28:01.279921Z",
          "shell.execute_reply.started": "2024-12-24T06:28:01.239314Z",
          "shell.execute_reply": "2024-12-24T06:28:01.277975Z"
        },
        "id": "460QsegZ04da",
        "outputId": "f1338aa2-50e7-448f-c953-e2713e5a1577"
      },
      "outputs": [
        {
          "execution_count": 15,
          "output_type": "execute_result",
          "data": {
            "text/plain": "LinearRegression()",
            "text/html": "<style>#sk-container-id-1 {color: black;background-color: white;}#sk-container-id-1 pre{padding: 0;}#sk-container-id-1 div.sk-toggleable {background-color: white;}#sk-container-id-1 label.sk-toggleable__label {cursor: pointer;display: block;width: 100%;margin-bottom: 0;padding: 0.3em;box-sizing: border-box;text-align: center;}#sk-container-id-1 label.sk-toggleable__label-arrow:before {content: \"▸\";float: left;margin-right: 0.25em;color: #696969;}#sk-container-id-1 label.sk-toggleable__label-arrow:hover:before {color: black;}#sk-container-id-1 div.sk-estimator:hover label.sk-toggleable__label-arrow:before {color: black;}#sk-container-id-1 div.sk-toggleable__content {max-height: 0;max-width: 0;overflow: hidden;text-align: left;background-color: #f0f8ff;}#sk-container-id-1 div.sk-toggleable__content pre {margin: 0.2em;color: black;border-radius: 0.25em;background-color: #f0f8ff;}#sk-container-id-1 input.sk-toggleable__control:checked~div.sk-toggleable__content {max-height: 200px;max-width: 100%;overflow: auto;}#sk-container-id-1 input.sk-toggleable__control:checked~label.sk-toggleable__label-arrow:before {content: \"▾\";}#sk-container-id-1 div.sk-estimator input.sk-toggleable__control:checked~label.sk-toggleable__label {background-color: #d4ebff;}#sk-container-id-1 div.sk-label input.sk-toggleable__control:checked~label.sk-toggleable__label {background-color: #d4ebff;}#sk-container-id-1 input.sk-hidden--visually {border: 0;clip: rect(1px 1px 1px 1px);clip: rect(1px, 1px, 1px, 1px);height: 1px;margin: -1px;overflow: hidden;padding: 0;position: absolute;width: 1px;}#sk-container-id-1 div.sk-estimator {font-family: monospace;background-color: #f0f8ff;border: 1px dotted black;border-radius: 0.25em;box-sizing: border-box;margin-bottom: 0.5em;}#sk-container-id-1 div.sk-estimator:hover {background-color: #d4ebff;}#sk-container-id-1 div.sk-parallel-item::after {content: \"\";width: 100%;border-bottom: 1px solid gray;flex-grow: 1;}#sk-container-id-1 div.sk-label:hover label.sk-toggleable__label {background-color: #d4ebff;}#sk-container-id-1 div.sk-serial::before {content: \"\";position: absolute;border-left: 1px solid gray;box-sizing: border-box;top: 0;bottom: 0;left: 50%;z-index: 0;}#sk-container-id-1 div.sk-serial {display: flex;flex-direction: column;align-items: center;background-color: white;padding-right: 0.2em;padding-left: 0.2em;position: relative;}#sk-container-id-1 div.sk-item {position: relative;z-index: 1;}#sk-container-id-1 div.sk-parallel {display: flex;align-items: stretch;justify-content: center;background-color: white;position: relative;}#sk-container-id-1 div.sk-item::before, #sk-container-id-1 div.sk-parallel-item::before {content: \"\";position: absolute;border-left: 1px solid gray;box-sizing: border-box;top: 0;bottom: 0;left: 50%;z-index: -1;}#sk-container-id-1 div.sk-parallel-item {display: flex;flex-direction: column;z-index: 1;position: relative;background-color: white;}#sk-container-id-1 div.sk-parallel-item:first-child::after {align-self: flex-end;width: 50%;}#sk-container-id-1 div.sk-parallel-item:last-child::after {align-self: flex-start;width: 50%;}#sk-container-id-1 div.sk-parallel-item:only-child::after {width: 0;}#sk-container-id-1 div.sk-dashed-wrapped {border: 1px dashed gray;margin: 0 0.4em 0.5em 0.4em;box-sizing: border-box;padding-bottom: 0.4em;background-color: white;}#sk-container-id-1 div.sk-label label {font-family: monospace;font-weight: bold;display: inline-block;line-height: 1.2em;}#sk-container-id-1 div.sk-label-container {text-align: center;}#sk-container-id-1 div.sk-container {/* jupyter's `normalize.less` sets `[hidden] { display: none; }` but bootstrap.min.css set `[hidden] { display: none !important; }` so we also need the `!important` here to be able to override the default hidden behavior on the sphinx rendered scikit-learn.org. See: https://github.com/scikit-learn/scikit-learn/issues/21755 */display: inline-block !important;position: relative;}#sk-container-id-1 div.sk-text-repr-fallback {display: none;}</style><div id=\"sk-container-id-1\" class=\"sk-top-container\"><div class=\"sk-text-repr-fallback\"><pre>LinearRegression()</pre><b>In a Jupyter environment, please rerun this cell to show the HTML representation or trust the notebook. <br />On GitHub, the HTML representation is unable to render, please try loading this page with nbviewer.org.</b></div><div class=\"sk-container\" hidden><div class=\"sk-item\"><div class=\"sk-estimator sk-toggleable\"><input class=\"sk-toggleable__control sk-hidden--visually\" id=\"sk-estimator-id-1\" type=\"checkbox\" checked><label for=\"sk-estimator-id-1\" class=\"sk-toggleable__label sk-toggleable__label-arrow\">LinearRegression</label><div class=\"sk-toggleable__content\"><pre>LinearRegression()</pre></div></div></div></div></div>"
          },
          "metadata": {}
        }
      ],
      "execution_count": null
    },
    {
      "cell_type": "markdown",
      "source": [
        "Model's coefficients represent the strength and direction of the relationship between each feature and the target variable (SalePrice). A higher absolute coefficient indicates a more influential feature in predicting the target variable."
      ],
      "metadata": {
        "id": "lS8hPMxL04db"
      }
    },
    {
      "cell_type": "code",
      "source": [
        "print(\"Model coefficients:\", model.coef_)"
      ],
      "metadata": {
        "trusted": true,
        "execution": {
          "iopub.status.busy": "2024-12-24T06:28:11.217694Z",
          "iopub.execute_input": "2024-12-24T06:28:11.218097Z",
          "iopub.status.idle": "2024-12-24T06:28:11.224315Z",
          "shell.execute_reply.started": "2024-12-24T06:28:11.218068Z",
          "shell.execute_reply": "2024-12-24T06:28:11.223110Z"
        },
        "id": "bpiOLcB104db",
        "outputId": "4fac687e-e587-4d21-f9e7-d1b37d05804a"
      },
      "outputs": [
        {
          "name": "stdout",
          "text": "Model coefficients: [[-1.00019704e+03 -8.09169166e+03  5.04371920e+03  2.57898713e+04\n   2.87679614e+03  9.26638638e+03  4.11245236e+03 -1.29728117e+17\n  -4.28001461e+16 -1.25274087e+17  1.26262440e+17  6.10246520e+16\n   6.88051939e+16  7.42544934e+15 -8.20331283e+16  6.07056766e+03\n   1.36652054e+02  3.07802469e+03  2.68245520e+02 -7.98416346e+03\n  -2.47789974e+03  1.11325480e+04  3.10134729e+03  8.78584128e+03\n   9.13338311e+02  3.85150587e+03 -8.85668767e+02  6.98254505e+02\n   1.60338659e+03  5.22380301e+03 -5.95362673e+03 -4.71611415e+02\n  -2.21965015e+02 -1.51134558e+02]]\n",
          "output_type": "stream"
        }
      ],
      "execution_count": null
    },
    {
      "cell_type": "markdown",
      "source": [
        "7. Model Evaluation\n",
        "\n",
        "After training the model, we predict the house prices on the **validation data** (`X_val_sc`) and compare the predictions (`y_pred`) with the true target values (`y_val`).\n",
        "\n",
        "We use **Mean Squared Error (MSE)** and **Root Mean Squared Error (RMSE)** as the evaluation metrics:\n",
        "- **MSE** measures the average squared difference between predicted and actual values.\n",
        "- **RMSE** is the square root of MSE and provides the error in the same units as the target variable (SalePrice), which makes it easier to interpret.\n",
        "\n",
        "These metrics help us understand how well the model is performing and how much error to expect on average in predicting house prices."
      ],
      "metadata": {
        "id": "EkCT9ePI04db"
      }
    },
    {
      "cell_type": "code",
      "source": [
        "# Predict on the validation set\n",
        "y_pred = model.predict(X_val_sc)\n",
        "\n",
        "# Calculate the Mean Squared Error (MSE) and Root Mean Squared Error (RMSE)\n",
        "MSE = mean_squared_error(y_val, y_pred)\n",
        "RMSE = np.sqrt(MSE)\n",
        "\n",
        "print(\"Mean Squared Error:\", MSE)\n",
        "print(\"Root Mean Squared Error:\", RMSE)"
      ],
      "metadata": {
        "trusted": true,
        "execution": {
          "iopub.status.busy": "2024-12-24T06:29:54.865406Z",
          "iopub.execute_input": "2024-12-24T06:29:54.865826Z",
          "iopub.status.idle": "2024-12-24T06:29:54.885460Z",
          "shell.execute_reply.started": "2024-12-24T06:29:54.865793Z",
          "shell.execute_reply": "2024-12-24T06:29:54.883917Z"
        },
        "id": "sBrGX0rO04db",
        "outputId": "0a7b235c-e573-4a8a-92d4-0fca118873e1"
      },
      "outputs": [
        {
          "name": "stdout",
          "text": "Mean Squared Error: 1608859330.696775\nRoot Mean Squared Error: 40110.588760285915\n",
          "output_type": "stream"
        }
      ],
      "execution_count": null
    },
    {
      "cell_type": "code",
      "source": [
        "# Scale the test data\n",
        "X_test_sc = sc.transform(test.fillna(0))\n",
        "\n",
        "# Predict the house prices on the test data\n",
        "test_pred = model.predict(X_test_sc)"
      ],
      "metadata": {
        "trusted": true,
        "execution": {
          "iopub.status.busy": "2024-12-24T06:31:11.298220Z",
          "iopub.execute_input": "2024-12-24T06:31:11.298606Z",
          "iopub.status.idle": "2024-12-24T06:31:11.308843Z",
          "shell.execute_reply.started": "2024-12-24T06:31:11.298578Z",
          "shell.execute_reply": "2024-12-24T06:31:11.307446Z"
        },
        "id": "noRjGhN204db"
      },
      "outputs": [],
      "execution_count": null
    },
    {
      "cell_type": "code",
      "source": [
        "# Prepare the submission file\n",
        "sample_submission = pd.read_csv('/kaggle/input/task-1/TASK 1/sample_submission.csv')\n",
        "sub = pd.DataFrame({'Id': sample_submission.Id, 'SalePrice': test_pred.reshape(-1)})"
      ],
      "metadata": {
        "trusted": true,
        "execution": {
          "iopub.status.busy": "2024-12-24T06:32:16.578608Z",
          "iopub.execute_input": "2024-12-24T06:32:16.579033Z",
          "iopub.status.idle": "2024-12-24T06:32:16.604145Z",
          "shell.execute_reply.started": "2024-12-24T06:32:16.579005Z",
          "shell.execute_reply": "2024-12-24T06:32:16.603130Z"
        },
        "id": "gt9KxSV704db"
      },
      "outputs": [],
      "execution_count": null
    },
    {
      "cell_type": "code",
      "source": [
        "# Save the submission file\n",
        "sub.to_csv('submission.csv', index=False)"
      ],
      "metadata": {
        "trusted": true,
        "execution": {
          "iopub.status.busy": "2024-12-24T06:32:30.438333Z",
          "iopub.execute_input": "2024-12-24T06:32:30.438723Z",
          "iopub.status.idle": "2024-12-24T06:32:30.450835Z",
          "shell.execute_reply.started": "2024-12-24T06:32:30.438696Z",
          "shell.execute_reply": "2024-12-24T06:32:30.449413Z"
        },
        "id": "K7QHNbH004db"
      },
      "outputs": [],
      "execution_count": null
    },
    {
      "cell_type": "code",
      "source": [
        "submission = pd.read_csv('submission.csv')"
      ],
      "metadata": {
        "trusted": true,
        "execution": {
          "iopub.status.busy": "2024-12-24T06:35:15.778421Z",
          "iopub.execute_input": "2024-12-24T06:35:15.778887Z",
          "iopub.status.idle": "2024-12-24T06:35:15.786384Z",
          "shell.execute_reply.started": "2024-12-24T06:35:15.778853Z",
          "shell.execute_reply": "2024-12-24T06:35:15.785292Z"
        },
        "id": "kKtUh98D04db"
      },
      "outputs": [],
      "execution_count": null
    },
    {
      "cell_type": "code",
      "source": [
        "submission.head()"
      ],
      "metadata": {
        "trusted": true,
        "execution": {
          "iopub.status.busy": "2024-12-24T06:35:21.738035Z",
          "iopub.execute_input": "2024-12-24T06:35:21.738408Z",
          "iopub.status.idle": "2024-12-24T06:35:21.747819Z",
          "shell.execute_reply.started": "2024-12-24T06:35:21.738379Z",
          "shell.execute_reply": "2024-12-24T06:35:21.746686Z"
        },
        "id": "zWnp5iaK04dc",
        "outputId": "2ede6d3f-fd3e-4bf4-a374-da09224e9c7d"
      },
      "outputs": [
        {
          "execution_count": 23,
          "output_type": "execute_result",
          "data": {
            "text/plain": "     Id      SalePrice\n0  1461  125345.093620\n1  1462  140565.051387\n2  1463  173783.491962\n3  1464  202130.523828\n4  1465  201475.116973",
            "text/html": "<div>\n<style scoped>\n    .dataframe tbody tr th:only-of-type {\n        vertical-align: middle;\n    }\n\n    .dataframe tbody tr th {\n        vertical-align: top;\n    }\n\n    .dataframe thead th {\n        text-align: right;\n    }\n</style>\n<table border=\"1\" class=\"dataframe\">\n  <thead>\n    <tr style=\"text-align: right;\">\n      <th></th>\n      <th>Id</th>\n      <th>SalePrice</th>\n    </tr>\n  </thead>\n  <tbody>\n    <tr>\n      <th>0</th>\n      <td>1461</td>\n      <td>125345.093620</td>\n    </tr>\n    <tr>\n      <th>1</th>\n      <td>1462</td>\n      <td>140565.051387</td>\n    </tr>\n    <tr>\n      <th>2</th>\n      <td>1463</td>\n      <td>173783.491962</td>\n    </tr>\n    <tr>\n      <th>3</th>\n      <td>1464</td>\n      <td>202130.523828</td>\n    </tr>\n    <tr>\n      <th>4</th>\n      <td>1465</td>\n      <td>201475.116973</td>\n    </tr>\n  </tbody>\n</table>\n</div>"
          },
          "metadata": {}
        }
      ],
      "execution_count": null
    },
    {
      "cell_type": "markdown",
      "source": [
        "In this notebook, we implemented a **Linear Regression** model to predict house prices based on features like square footage, number of bedrooms, and bathrooms.\n",
        "\n",
        "The model's performance was evaluated using **Mean Squared Error (MSE)** and **Root Mean Squared Error (RMSE)**, which gave us an understanding of how well the model generalizes to new, unseen data.\n",
        "\n",
        "### Recommendations\n",
        "- **Feature Engineering**: To improve the model's performance, we could experiment with additional features (e.g., neighborhood, year built) or create new features (e.g., price per square foot).\n",
        "- **Regularization**: If overfitting becomes a problem, we could explore regularization techniques such as **Ridge** or **Lasso regression**.\n",
        "- **Model Improvement**: Linear regression is a simple model, and we could try more complex models (e.g., decision trees, random forests, or gradient boosting) to see if they yield better results.\n",
        "\n",
        "This process can be iterated, and the model can be improved with further feature selection, data preprocessing, and model tuning."
      ],
      "metadata": {
        "id": "JHGUfJsb04dc"
      }
    }
  ]
}